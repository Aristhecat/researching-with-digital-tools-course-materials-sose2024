{
 "cells": [
  {
   "cell_type": "markdown",
   "metadata": {},
   "source": [
    "# Save \"ugly\" JSON string to readable JSON file."
   ]
  },
  {
   "cell_type": "code",
   "execution_count": 1,
   "metadata": {},
   "outputs": [
    {
     "data": {
      "application/vnd.jupyter.widget-view+json": {
       "model_id": "755c4e7a9dbe42a184c7887ac1826418",
       "version_major": 2,
       "version_minor": 0
      },
      "text/plain": [
       "Textarea(value='', placeholder='Enter the JSON string here')"
      ]
     },
     "metadata": {},
     "output_type": "display_data"
    }
   ],
   "source": [
    "# Generate an input field in jupyter notebook to enter a json string\n",
    "\n",
    "from ipywidgets import widgets\n",
    "from IPython.display import display\n",
    "\n",
    "# Create a text widget\n",
    "text = widgets.Textarea(placeholder='Enter the JSON string here')\n",
    "display(text)"
   ]
  },
  {
   "cell_type": "code",
   "execution_count": 2,
   "metadata": {},
   "outputs": [
    {
     "name": "stdout",
     "output_type": "stream",
     "text": [
      "{\"_id\":\"thereisanaiforthat_v2024_alt\",\"startUrl\":[\"https://theresanaiforthat.com/period/2024/\",\"https://theresanaiforthat.com/period/2023/\",\"https://theresanaiforthat.com/period/2022/\",\"https://theresanaiforthat.com/period/2021/\",\"https://theresanaiforthat.com/period/2020/\",\"https://theresanaiforthat.com/period/2019/\",\"https://theresanaiforthat.com/period/2018/\",\"https://theresanaiforthat.com/period/2017/\",\"https://theresanaiforthat.com/period/2016/\",\"https://theresanaiforthat.com/period/2015/\",\"https://theresanaiforthat.com/period/2014/\",\"https://theresanaiforthat.com/period/2013/\",\"https://theresanaiforthat.com/period/2012/\"],\"selectors\":[{\"id\":\"item-list\",\"multiple\":true,\"parentSelectors\":[\"_root\"],\"selector\":\"div.data_cont\",\"type\":\"SelectorElement\"},{\"id\":\"item\",\"multiple\":true,\"parentSelectors\":[\"item-list\"],\"selector\":\"li\",\"type\":\"SelectorElement\"},{\"extractAttribute\":\"href\",\"id\":\"item_link\",\"multiple\":false,\"parentSelectors\":[\"item\"],\"selector\":\"a\",\"type\":\"SelectorElementAttribute\"},{\"id\":\"pricing\",\"multiple\":false,\"parentSelectors\":[\"inlink\"],\"regex\":\"\",\"selector\":\".price\",\"type\":\"SelectorText\"}]}\n"
     ]
    }
   ],
   "source": [
    "webscraper_string = text.value\n",
    "print (webscraper_string)"
   ]
  },
  {
   "cell_type": "code",
   "execution_count": 3,
   "metadata": {},
   "outputs": [
    {
     "name": "stdout",
     "output_type": "stream",
     "text": [
      "{\n",
      "    \"_id\": \"thereisanaiforthat_v2024_alt\",\n",
      "    \"startUrl\": [\n",
      "        \"https://theresanaiforthat.com/period/2024/\",\n",
      "        \"https://theresanaiforthat.com/period/2023/\",\n",
      "        \"https://theresanaiforthat.com/period/2022/\",\n",
      "        \"https://theresanaiforthat.com/period/2021/\",\n",
      "        \"https://theresanaiforthat.com/period/2020/\",\n",
      "        \"https://theresanaiforthat.com/period/2019/\",\n",
      "        \"https://theresanaiforthat.com/period/2018/\",\n",
      "        \"https://theresanaiforthat.com/period/2017/\",\n",
      "        \"https://theresanaiforthat.com/period/2016/\",\n",
      "        \"https://theresanaiforthat.com/period/2015/\",\n",
      "        \"https://theresanaiforthat.com/period/2014/\",\n",
      "        \"https://theresanaiforthat.com/period/2013/\",\n",
      "        \"https://theresanaiforthat.com/period/2012/\"\n",
      "    ],\n",
      "    \"selectors\": [\n",
      "        {\n",
      "            \"id\": \"item-list\",\n",
      "            \"multiple\": true,\n",
      "            \"parentSelectors\": [\n",
      "                \"_root\"\n",
      "            ],\n",
      "            \"selector\": \"div.data_cont\",\n",
      "            \"type\": \"SelectorElement\"\n",
      "        },\n",
      "        {\n",
      "            \"id\": \"item\",\n",
      "            \"multiple\": true,\n",
      "            \"parentSelectors\": [\n",
      "                \"item-list\"\n",
      "            ],\n",
      "            \"selector\": \"li\",\n",
      "            \"type\": \"SelectorElement\"\n",
      "        },\n",
      "        {\n",
      "            \"extractAttribute\": \"href\",\n",
      "            \"id\": \"item_link\",\n",
      "            \"multiple\": false,\n",
      "            \"parentSelectors\": [\n",
      "                \"item\"\n",
      "            ],\n",
      "            \"selector\": \"a\",\n",
      "            \"type\": \"SelectorElementAttribute\"\n",
      "        },\n",
      "        {\n",
      "            \"id\": \"pricing\",\n",
      "            \"multiple\": false,\n",
      "            \"parentSelectors\": [\n",
      "                \"inlink\"\n",
      "            ],\n",
      "            \"regex\": \"\",\n",
      "            \"selector\": \".price\",\n",
      "            \"type\": \"SelectorText\"\n",
      "        }\n",
      "    ]\n",
      "}\n"
     ]
    }
   ],
   "source": [
    "# Parse the JSON string\n",
    "import json\n",
    "webscraper = json.loads(webscraper_string)\n",
    "\n",
    "# Print the parsed JSON\n",
    "print(json.dumps(webscraper, indent=4))"
   ]
  },
  {
   "cell_type": "code",
   "execution_count": 4,
   "metadata": {},
   "outputs": [
    {
     "name": "stdout",
     "output_type": "stream",
     "text": [
      "JSON file saved as:  thereisanaiforthat_v2024_alt_webscraper_sitemap.json\n"
     ]
    }
   ],
   "source": [
    "fnamme = webscraper['_id'] + '_webscraper_sitemap.json'\n",
    "with open(fnamme, 'w') as f:\n",
    "    json.dump(webscraper, f, indent=4)\n",
    "    print('JSON file saved as: ', fnamme)\n"
   ]
  }
 ],
 "metadata": {
  "kernelspec": {
   "display_name": "Python 3",
   "language": "python",
   "name": "python3"
  },
  "language_info": {
   "codemirror_mode": {
    "name": "ipython",
    "version": 3
   },
   "file_extension": ".py",
   "mimetype": "text/x-python",
   "name": "python",
   "nbconvert_exporter": "python",
   "pygments_lexer": "ipython3",
   "version": "3.12.0"
  }
 },
 "nbformat": 4,
 "nbformat_minor": 2
}
